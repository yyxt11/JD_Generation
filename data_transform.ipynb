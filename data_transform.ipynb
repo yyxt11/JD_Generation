{
 "cells": [
  {
   "cell_type": "code",
   "execution_count": 13,
   "metadata": {
    "collapsed": true
   },
   "outputs": [],
   "source": [
    "import pandas as pd\n",
    "import re\n",
    "from collections import defaultdict\n",
    "import jieba"
   ]
  },
  {
   "cell_type": "markdown",
   "metadata": {
    "collapsed": true
   },
   "source": [
    "    read material and anlysis"
   ]
  },
  {
   "cell_type": "code",
   "execution_count": 14,
   "metadata": {},
   "outputs": [
    {
     "name": "stdout",
     "output_type": "stream",
     "text": [
      "(12327, 2)\n"
     ]
    }
   ],
   "source": [
    "text_path = './workexp.csv'\n",
    "text = pd.read_csv(text_path,encoding='gb18030')\n",
    "print(text.shape)"
   ]
  },
  {
   "cell_type": "code",
   "execution_count": 15,
   "metadata": {
    "scrolled": true
   },
   "outputs": [
    {
     "name": "stdout",
     "output_type": "stream",
     "text": [
      "['融资高级经理', '1、投资、金融、经济类相关专业，8年以上工作经验，5年以上大型企业、银行融资、信贷岗位的行业经验；电力行业五大四小集团融资经验优先；', '2、具有广泛的融资渠道或在金融领域有深厚的人脉关系者优先；具有独立完成融资项目运作的能力，具有大型项目融资成功案例者优先；具备多渠道、多金融产品融资经验优先；', '3、中级经济师及以上职称；具备注册会计师（CPA）或国际注册会计师（ACCA）证书优先；', '4、良好的工作责任心和主动性；结果导向、成就导向意识强；', '5、较强的客户沟通能力及优秀的商务谈判技能；较强的组织协调能力和逻辑分析能力，执行力强；敏锐的市场洞察力、优秀的融资项目策划组织能力和市场开拓能力；', '6、良好的自我学习能力、知识更新能力、团队协作能力；', '7、熟悉国家金融财经政策，熟悉银行信贷审批流程，熟悉债券发行，定向增发、信托及私募融资模式；熟悉项目融资、贷款、借款、资金、结息等融资工作管理流程；跨学科的了解企业经营管理、项目运作与管理、财务分析与管理等知识；', '8、工作地点：北京、沈阳及国内其他地区']\n"
     ]
    }
   ],
   "source": [
    "t ='{}\\n{}'.format(text.at[1,'title'],text.at[1,'workexp'])\n",
    "s = t.split('\\n')\n",
    "print(s)"
   ]
  },
  {
   "cell_type": "code",
   "execution_count": 18,
   "metadata": {
    "collapsed": true
   },
   "outputs": [],
   "source": [
    "dataset = defaultdict(lambda:0)\n",
    "index_list = text.index.tolist()\n",
    "txtpath = './jd.txt'\n",
    "zhPattern = re.compile(u'[\\u4e00-\\u9fa5]+')\n",
    "\n",
    "with open(txtpath,'w',encoding='gb18030') as f: \n",
    "    for i in index_list:\n",
    "        sentence = '{}'.format(text.at[i,'workexp'])\n",
    "        match = zhPattern.search(sentence)\n",
    "        if not match:\n",
    "            continue\n",
    "        \n",
    "        title = '{}\\n'.format(text.at[i,'title'])\n",
    "        f.write(title)\n",
    "        \n",
    "        sentence.replace(\"</br>\",\"\\n\")\n",
    "        sentence_list = sentence.split('\\n')\n",
    "        for sentence in sentence_list:\n",
    "            result = jieba.cut(sentence)\n",
    "            result_blank = ' '.join(result)\n",
    "            f.write(result_blank)\n",
    "            f.write(\"\\n\")\n",
    "            \n",
    "        f.write(\"\\n\\n\")\n",
    "        \n",
    "    "
   ]
  },
  {
   "cell_type": "code",
   "execution_count": null,
   "metadata": {
    "collapsed": true
   },
   "outputs": [],
   "source": []
  }
 ],
 "metadata": {
  "kernelspec": {
   "display_name": "Python 3",
   "language": "python",
   "name": "python3"
  },
  "language_info": {
   "codemirror_mode": {
    "name": "ipython",
    "version": 3
   },
   "file_extension": ".py",
   "mimetype": "text/x-python",
   "name": "python",
   "nbconvert_exporter": "python",
   "pygments_lexer": "ipython3",
   "version": "3.5.4"
  }
 },
 "nbformat": 4,
 "nbformat_minor": 2
}
